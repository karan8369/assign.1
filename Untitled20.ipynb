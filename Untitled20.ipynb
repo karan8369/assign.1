{
 "cells": [
  {
   "cell_type": "code",
   "execution_count": null,
   "id": "bbe74ef9",
   "metadata": {},
   "outputs": [],
   "source": [
    "input_data = [\"3\",\"Krishna 67 68 69\",\"Arjun 70 98 63\",\"Mlika 52 56 60\"]\n",
    "n = input(input_data[0])\n",
    "marks = {}\n",
    "for i in range(1,n+1):\n",
    "    data = input_data[i].split()\n",
    "    name = data[0]\n",
    "    marks_list = list(map(int,data[1:]))\n",
    "    if len(marks_list) > 2 and len(marks_list) == 3 and all(0 <= mark <= 100 for mark in marks_list):\n",
    "        marks[name] = marks_list\n",
    "def calculate_average_with_conditions(student_name):\n",
    "    if student_name in marks:\n",
    "        marks_list = marks[student_name]\n",
    "        if len(marks_list) > 2 and len(marks_list) == 3 and all(0 <= mark <= 100 for mark in marks_list):\n",
    "            avg = sum(marks_list)/len(marks_list)\n",
    "            print(f\"{avg:2f}\")\n",
    "        else:\n",
    "            print(f\"condition for {student_name} not me!\")\n",
    "malika_average = calculate_average_with_conditions(\"malika\")\n",
    "print(malika_average)\n",
    "            "
   ]
  },
  {
   "cell_type": "code",
   "execution_count": 2,
   "id": "83e90a8c",
   "metadata": {},
   "outputs": [
    {
     "name": "stdout",
     "output_type": "stream",
     "text": [
      "this-is-a-string\n"
     ]
    }
   ],
   "source": [
    "def split_and_join(line):\n",
    "    words = line.split()\n",
    "    joined_line = \"-\".join(words)\n",
    "    return joined_line\n",
    "input_line = \"this is a string\"\n",
    "result = split_and_join(input_line)\n",
    "print(result)"
   ]
  },
  {
   "cell_type": "code",
   "execution_count": 3,
   "id": "69effcf4",
   "metadata": {},
   "outputs": [
    {
     "name": "stdout",
     "output_type": "stream",
     "text": [
      "5\n",
      "{1, 2, 3, 6, 8}\n"
     ]
    }
   ],
   "source": [
    "english_students = {1,2,3,4,5,6,7,8,9}\n",
    "french_students = {10,1,2,3,11,21,55,6,8}\n",
    "intersection_students = english_students.intersection(french_students)\n",
    "print(len(intersection_students))\n",
    "print(intersection_students)"
   ]
  },
  {
   "cell_type": "code",
   "execution_count": 4,
   "id": "161a5994",
   "metadata": {},
   "outputs": [
    {
     "name": "stdout",
     "output_type": "stream",
     "text": [
      "5\n"
     ]
    }
   ],
   "source": [
    "input_string = \"2 3 6 6 5\"\n",
    "score = list(map(int,input_string.split()))\n",
    "unique_score = list(set(score))\n",
    "unique_score.remove(max(unique_score))\n",
    "runner_up = max(unique_score)\n",
    "print(runner_up)"
   ]
  },
  {
   "cell_type": "code",
   "execution_count": 5,
   "id": "06fc936c",
   "metadata": {},
   "outputs": [
    {
     "name": "stdout",
     "output_type": "stream",
     "text": [
      "HackerRank.com presents 'Pythonist 2'.\n",
      "hACKERrANK.COM PRESENTS 'pYTHONIST 2'.\n"
     ]
    }
   ],
   "source": [
    "def swap_case(s):\n",
    "    return s.swapcase()\n",
    "input_string = \"HackerRank.com presents 'Pythonist 2'.\"\n",
    "output_string = swap_case(input_string)\n",
    "print(input_string)\n",
    "print(output_string)"
   ]
  },
  {
   "cell_type": "code",
   "execution_count": 6,
   "id": "19c82673",
   "metadata": {},
   "outputs": [
    {
     "name": "stdout",
     "output_type": "stream",
     "text": [
      "5\n",
      "1\n",
      "6\n",
      "3\n",
      "2\n"
     ]
    }
   ],
   "source": [
    "a = 3\n",
    "b = 2\n",
    "print(a+b)\n",
    "print(a-b)\n",
    "print(a*b)\n",
    "print(a)\n",
    "print(b)"
   ]
  },
  {
   "cell_type": "code",
   "execution_count": 7,
   "id": "1576d912",
   "metadata": {},
   "outputs": [
    {
     "name": "stdout",
     "output_type": "stream",
     "text": [
      "1\n",
      "1.3333333333333333\n"
     ]
    }
   ],
   "source": [
    "a = 4\n",
    "b = 3\n",
    "\n",
    "print(a//b)\n",
    "print(a/b)"
   ]
  },
  {
   "cell_type": "code",
   "execution_count": 8,
   "id": "268b3580",
   "metadata": {},
   "outputs": [
    {
     "name": "stdout",
     "output_type": "stream",
     "text": [
      "Enter the positive number: 24\n",
      "Not Weird\n"
     ]
    }
   ],
   "source": [
    "def check_number(num):\n",
    "    if num % 2 != 0:\n",
    "        print(\"Weird\")\n",
    "    else:\n",
    "        if 2 <= num <= 5:\n",
    "            print(\"Not Weird\")\n",
    "        elif 6 <= num <= 20:\n",
    "            print(\"Weird\")\n",
    "        else:\n",
    "            print(\"Not Weird\")\n",
    "number = int(input(\"Enter the positive number: \"))\n",
    "check_number(number)"
   ]
  },
  {
   "cell_type": "code",
   "execution_count": 1,
   "id": "4e32ca72",
   "metadata": {},
   "outputs": [
    {
     "name": "stdout",
     "output_type": "stream",
     "text": [
      "Enter the number of students: 5\n",
      "Enter student name: Harry\n",
      "Enter the grade: 37.21\n",
      "Enter student name: Berry\n",
      "Enter the grade: 37.21\n",
      "Enter student name: Tina\n",
      "Enter the grade: 37.2\n",
      "Enter student name: Ankriti\n",
      "Enter the grade: 41\n",
      "Enter student name: Harsh\n",
      "Enter the grade: 39\n",
      "Berry\n",
      "Harry\n"
     ]
    }
   ],
   "source": [
    "n = int(input(\"Enter the number of students: \"))\n",
    "students = []\n",
    "for _ in range(n):\n",
    "    name = input(\"Enter student name: \")\n",
    "    grade = float(input(\"Enter the grade: \"))\n",
    "    students.append([name,grade])\n",
    "grades = set(score for name, score in students)\n",
    "second_lowest = sorted(grades)[1]\n",
    "second_lowest_students = sorted([name for name, score in students if score == second_lowest])\n",
    "for name in second_lowest_students:\n",
    "    print(name)"
   ]
  },
  {
   "cell_type": "code",
   "execution_count": 14,
   "id": "4ec599b5",
   "metadata": {},
   "outputs": [
    {
     "name": "stdout",
     "output_type": "stream",
     "text": [
      "Enter the num: 5\n",
      "0\n",
      "1\n",
      "4\n",
      "9\n",
      "16\n"
     ]
    }
   ],
   "source": [
    "n = int(input(\"Enter the num: \"))\n",
    "for i in range(0,n):\n",
    "    print(i*i)"
   ]
  },
  {
   "cell_type": "code",
   "execution_count": null,
   "id": "4ee0ff5a",
   "metadata": {},
   "outputs": [],
   "source": [
    "def is_leap(year):\n",
    "    if year % 4 == 0:\n",
    "        if year % 100 == 0:\n",
    "            if year % 400 == 0:\n",
    "                return True\n",
    "            else:\n",
    "                return False\n",
    "        else:\n",
    "            return True\n",
    "    else:\n",
    "        return False\n",
    "year = int(input(\"Enter the year: \"))\n",
    "print(is_leap)\n",
    "    "
   ]
  },
  {
   "cell_type": "code",
   "execution_count": null,
   "id": "80999511",
   "metadata": {},
   "outputs": [],
   "source": [
    "def count_substring(string,substring):\n",
    "    count = 0\n",
    "    for i in range(len(string)-len(substring)+1):\n",
    "        is string[i:i+1 len(substring)]==substring:\n",
    "            count +=1\n",
    "    return count\n",
    "original_string = input(\"Enter the string: \")\n",
    "sub = input(\"Enter the substring: \")\n",
    "result = count_substring(oringinal_string,sub)\n",
    "print(result)\n"
   ]
  },
  {
   "cell_type": "code",
   "execution_count": null,
   "id": "040ef181",
   "metadata": {},
   "outputs": [],
   "source": [
    "def is_leap(year):\n",
    "    if year % 4 == 0:\n",
    "        return True\n",
    "        \n",
    "    else:\n",
    "        return False\n",
    "        \n",
    "        if year % 100 == 0:\n",
    "            \n",
    "            return True\n",
    "        else:\n",
    "            return False\n",
    "        \n",
    "            if year % 400 == 0:\n",
    "                return True\n",
    "            else:\n",
    "                return False\n",
    "    \n",
    "year = int(input(\"Enter the year: \"))\n",
    "print(is_leap)\n",
    "    "
   ]
  }
 ],
 "metadata": {
  "kernelspec": {
   "display_name": "Python 3 (ipykernel)",
   "language": "python",
   "name": "python3"
  },
  "language_info": {
   "codemirror_mode": {
    "name": "ipython",
    "version": 3
   },
   "file_extension": ".py",
   "mimetype": "text/x-python",
   "name": "python",
   "nbconvert_exporter": "python",
   "pygments_lexer": "ipython3",
   "version": "3.10.9"
  }
 },
 "nbformat": 4,
 "nbformat_minor": 5
}
